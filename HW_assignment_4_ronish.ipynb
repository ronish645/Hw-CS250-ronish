{
  "nbformat": 4,
  "nbformat_minor": 0,
  "metadata": {
    "colab": {
      "provenance": [],
      "authorship_tag": "ABX9TyOYUhHF+rSffhm94hgROnCA",
      "include_colab_link": true
    },
    "kernelspec": {
      "name": "python3",
      "display_name": "Python 3"
    },
    "language_info": {
      "name": "python"
    }
  },
  "cells": [
    {
      "cell_type": "markdown",
      "metadata": {
        "id": "view-in-github",
        "colab_type": "text"
      },
      "source": [
        "<a href=\"https://colab.research.google.com/github/ronish645/Hw-CS250-ronish/blob/main/HW_assignment_4_ronish.ipynb\" target=\"_parent\"><img src=\"https://colab.research.google.com/assets/colab-badge.svg\" alt=\"Open In Colab\"/></a>"
      ]
    },
    {
      "cell_type": "code",
      "source": [
        "def find_max_product(numbers):         #1\n",
        "     max_product = 1\n",
        "     for i in range(len(numbers)):\n",
        "        for j in range(i + 1, len(numbers)):\n",
        "            product = numbers[i] * numbers[j]\n",
        "            if product > max_product:\n",
        "                max_product = product\n",
        "    \n",
        "     return max_product\n",
        "numbers = [10,3,1,9,2]\n",
        "max_product = find_max_product(numbers)\n",
        "print(max_product)  \n"
      ],
      "metadata": {
        "id": "AogFAREwiX9e"
      },
      "execution_count": null,
      "outputs": []
    },
    {
      "cell_type": "code",
      "source": [
        "def coords(fn, seq, lower, upper):           #2\n",
        "    return [[x, fn(x)] for x in seq if lower <= fn(x) <= upper]\n",
        "seq = [-4, -2, 0, 1, 3]\n",
        "fn = lambda x: x**2\n",
        "print(coords(fn, seq, 1, 9))  "
      ],
      "metadata": {
        "id": "otdifx2uihR_",
        "colab": {
          "base_uri": "https://localhost:8080/"
        },
        "outputId": "1f236341-7e8a-4bfb-fe6a-e42b8c5d4d9a"
      },
      "execution_count": 12,
      "outputs": [
        {
          "output_type": "stream",
          "name": "stdout",
          "text": [
            "[[-2, 4], [1, 1], [3, 9]]\n"
          ]
        }
      ]
    },
    {
      "cell_type": "code",
      "execution_count": null,
      "metadata": {
        "id": "-7sGd6R39L12"
      },
      "outputs": [],
      "source": [
        "def sort_list(lst):        #3\n",
        "    sorted_list = []\n",
        "    while len(lst) > 0:\n",
        "       min_elem = min(lst)    # Find the minimum element in the list\n",
        "       lst.remove(min_elem)  # Remove the minimum element from the list\n",
        "       sorted_list.append(min_elem) # Append the minimum element to the sorted list\n",
        "    return sorted_list\n",
        "      \n",
        "unsorted_list = [-4,1,-2,0,3]\n",
        "sorted_list = sort_list(unsorted_list)\n",
        "print(sorted_list)  \n"
      ]
    },
    {
      "cell_type": "code",
      "source": [
        "def chk_elm(lst, n):         #4\n",
        "  for item in lst:\n",
        "    if isinstance(item, list):\n",
        "      if chk_elm(item, n):\n",
        "        return True\n",
        "    elif item == n:\n",
        "      return True\n",
        "  return False\n",
        "a = [ [1,[2]], 3, [ [4], [5,[6] ] ] ]\n",
        "print(chk_elm(a, 6))  # prints True\n",
        "print(chk_elm(a, 7))  # prints False\n"
      ],
      "metadata": {
        "id": "ZxhfZZS_aDAL"
      },
      "execution_count": null,
      "outputs": []
    }
  ]
}