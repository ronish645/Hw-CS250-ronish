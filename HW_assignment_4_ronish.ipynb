{
  "nbformat": 4,
  "nbformat_minor": 0,
  "metadata": {
    "colab": {
      "provenance": [],
      "authorship_tag": "ABX9TyNHz1NQpcd2PI9FrOokElse",
      "include_colab_link": true
    },
    "kernelspec": {
      "name": "python3",
      "display_name": "Python 3"
    },
    "language_info": {
      "name": "python"
    }
  },
  "cells": [
    {
      "cell_type": "markdown",
      "metadata": {
        "id": "view-in-github",
        "colab_type": "text"
      },
      "source": [
        "<a href=\"https://colab.research.google.com/github/ronish645/Hw-CS250-ronish/blob/main/HW_assignment_4_ronish.ipynb\" target=\"_parent\"><img src=\"https://colab.research.google.com/assets/colab-badge.svg\" alt=\"Open In Colab\"/></a>"
      ]
    },
    {
      "cell_type": "code",
      "source": [
        "def max_product():\n",
        "  lst=[10,5,3,2,8,7]\n",
        "  lst.sort()\n",
        "  result=lst[len(lst)-1]*lst[len(lst)-2]\n",
        "  return result\n",
        "max_product()"
      ],
      "metadata": {
        "id": "AogFAREwiX9e"
      },
      "execution_count": null,
      "outputs": []
    },
    {
      "cell_type": "code",
      "source": [
        "def coord(fn, seq, lower, upper):\n",
        "  return [[x, fn(x)]for x in seq if lower <= fn(x) <= upper]\n",
        "print(coord(lambda x:x**2,[-4, -2, 0, 1, 3],1, 9))"
      ],
      "metadata": {
        "id": "otdifx2uihR_"
      },
      "execution_count": null,
      "outputs": []
    },
    {
      "cell_type": "code",
      "execution_count": null,
      "metadata": {
        "id": "-7sGd6R39L12"
      },
      "outputs": [],
      "source": [
        "     # Q.No.3: Solution\n",
        "my_list = [-4,1,-2,0,3]\n",
        "new_list = []\n",
        "\n",
        "while my_list:\n",
        "    min = my_list[0]  \n",
        "    for x in my_list: \n",
        "        if x < min:\n",
        "            min = x\n",
        "    new_list.append(min)\n",
        "    my_list.remove(min)    \n",
        "\n",
        "print(new_list)"
      ]
    }
  ]
}