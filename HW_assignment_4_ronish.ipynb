{
  "nbformat": 4,
  "nbformat_minor": 0,
  "metadata": {
    "colab": {
      "provenance": [],
      "authorship_tag": "ABX9TyMmduirqt5H9nEfs9fA/aJw",
      "include_colab_link": true
    },
    "kernelspec": {
      "name": "python3",
      "display_name": "Python 3"
    },
    "language_info": {
      "name": "python"
    }
  },
  "cells": [
    {
      "cell_type": "markdown",
      "metadata": {
        "id": "view-in-github",
        "colab_type": "text"
      },
      "source": [
        "<a href=\"https://colab.research.google.com/github/ronish645/Hw-CS250-ronish/blob/main/HW_assignment_4_ronish.ipynb\" target=\"_parent\"><img src=\"https://colab.research.google.com/assets/colab-badge.svg\" alt=\"Open In Colab\"/></a>"
      ]
    },
    {
      "cell_type": "code",
      "execution_count": null,
      "metadata": {
        "id": "-7sGd6R39L12"
      },
      "outputs": [],
      "source": [
        "     # Q.No.3: Solution\n",
        "my_list = [-4,1,-2,0,3]\n",
        "new_list = []\n",
        "\n",
        "while my_list:\n",
        "    min = my_list[0]  \n",
        "    for x in my_list: \n",
        "        if x < min:\n",
        "            min = x\n",
        "    new_list.append(min)\n",
        "    my_list.remove(min)    \n",
        "\n",
        "print(new_list)"
      ]
    },
    {
      "cell_type": "code",
      "source": [],
      "metadata": {
        "id": "HakxWYUh9jDQ"
      },
      "execution_count": null,
      "outputs": []
    }
  ]
}