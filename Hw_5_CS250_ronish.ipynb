{
  "nbformat": 4,
  "nbformat_minor": 0,
  "metadata": {
    "colab": {
      "provenance": [],
      "authorship_tag": "ABX9TyP+7tm8Yg9a8DJGKjWVYnig",
      "include_colab_link": true
    },
    "kernelspec": {
      "name": "python3",
      "display_name": "Python 3"
    },
    "language_info": {
      "name": "python"
    }
  },
  "cells": [
    {
      "cell_type": "markdown",
      "metadata": {
        "id": "view-in-github",
        "colab_type": "text"
      },
      "source": [
        "<a href=\"https://colab.research.google.com/github/ronish645/Hw-CS250-ronish/blob/main/Hw_5_CS250_ronish.ipynb\" target=\"_parent\"><img src=\"https://colab.research.google.com/assets/colab-badge.svg\" alt=\"Open In Colab\"/></a>"
      ]
    },
    {
      "cell_type": "code",
      "execution_count": null,
      "metadata": {
        "colab": {
          "base_uri": "https://localhost:8080/"
        },
        "id": "QbT0s85qctiS",
        "outputId": "25383114-e6fe-4527-eb2c-5446f70dd984"
      },
      "outputs": [
        {
          "output_type": "stream",
          "name": "stdout",
          "text": [
            "Machine is out of stock.\n",
            "Current crab stock: 2\n",
            "You must deposit $10 more. \n",
            "Current balance: $7\n",
            "You must deposit $3 more. \n",
            "Current balance: $12\n",
            "Here is your crab and $2 change.\n",
            "Current balance: $10\n",
            "Here is your crab.\n",
            "Machine is out of stock. Here is your $15.\n"
          ]
        }
      ],
      "source": [
        "class VendingMachine:\n",
        "    def __init__(self, product, price):\n",
        "        self.product = product\n",
        "        self.price = price\n",
        "        self.stock = 0\n",
        "        self.balance = 0\n",
        "\n",
        "    def restock(self, amount):\n",
        "        self.stock += amount\n",
        "        return f'Current {self.product} stock: {self.stock}'\n",
        "\n",
        "    def deposit(self, amount):\n",
        "        if self.stock == 0:\n",
        "            return f'Machine is out of stock. Here is your ${amount}.'\n",
        "        self.balance += amount\n",
        "        return f'Current balance: ${self.balance}'\n",
        "\n",
        "    def vend(self):\n",
        "        if self.stock == 0:\n",
        "            return 'Machine is out of stock.'\n",
        "        elif self.balance < self.price:\n",
        "            return f'You must deposit ${self.price - self.balance} more. '\n",
        "        elif self.balance == self.price:\n",
        "            self.stock -= 1\n",
        "            self.balance = 0\n",
        "            return f'Here is your {self.product}.'\n",
        "        else:\n",
        "            self.stock -= 1\n",
        "            change = self.balance - self.price\n",
        "            self.balance = 0\n",
        "            return f'Here is your {self.product} and ${change} change.'\n",
        "\n",
        "v = VendingMachine('crab', 10)\n",
        "print(v.vend())  # Machine is out of stock.\n",
        "print(v.restock(2))  # Current crab stock: 2\n",
        "print(v.vend())  # You must deposit $10. \n",
        "print(v.deposit(7))  # Current balance: $7\n",
        "print(v.vend())  # You must deposit $3 more.\n",
        "print(v.deposit(5))  # Current balance: $12\n",
        "print(v.vend())  # Here is your crab and $2 change.\n",
        "print(v.deposit(10))  # Current balance: $10\n",
        "print(v.vend())  # Here is your crab.\n",
        "print(v.deposit(15))  # Machine is out of stock. Here is your $15."
      ]
    }
  ]
}